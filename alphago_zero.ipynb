{
 "cells": [
  {
   "cell_type": "code",
   "execution_count": null,
   "metadata": {
    "collapsed": true
   },
   "outputs": [],
   "source": [
    "from src.models.cnn import Model\n",
    "from src.board.gobang import GoBang\n",
    "from src.board.game import Game\n",
    "from src.mcts.mcts import MCTS\n",
    "from src.mcts.alphago_zero import AlphaGoZero\n",
    "from src.pipeline import PipelineTrain\n",
    "\n",
    "model = Model()\n",
    "board = GoBang()\n",
    "game = Game(board, show=True)\n",
    "mcts = MCTS(model)\n",
    "alpahgo_zero = AlphaGoZero(mcts, self_play=False)\n",
    "pipelinetrain = PipelineTrain(game, alpahgo_zero, model, 2000)\n",
    "pipelinetrain.train()"
   ]
  }
 ],
 "metadata": {
  "kernelspec": {
   "display_name": "Python 2",
   "language": "python",
   "name": "python2"
  },
  "language_info": {
   "codemirror_mode": {
    "name": "ipython",
    "version": 2
   },
   "file_extension": ".py",
   "mimetype": "text/x-python",
   "name": "python",
   "nbconvert_exporter": "python",
   "pygments_lexer": "ipython2",
   "version": "2.7.6"
  }
 },
 "nbformat": 4,
 "nbformat_minor": 0
}
